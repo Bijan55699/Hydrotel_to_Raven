{
 "cells": [
  {
   "cell_type": "markdown",
   "metadata": {},
   "source": [
    "# This script intends to create the subbasin map of a wtershed using the Physitel inputs/outputs. The script heavily relies on arcpy library for geospatial calculations and runs in Python version 2.7."
   ]
  },
  {
   "cell_type": "markdown",
   "metadata": {},
   "source": [
    "### section1: importing the libraries"
   ]
  },
  {
   "cell_type": "code",
   "execution_count": 1,
   "metadata": {
    "collapsed": true
   },
   "outputs": [],
   "source": [
    "import arcpy,os,re\n",
    "from arcpy.sa import *\n",
    "from arcpy import env\n",
    "import pandas as pd\n",
    "import scipy.io as sio\n",
    "import shutil"
   ]
  },
  {
   "cell_type": "markdown",
   "metadata": {},
   "source": [
    "### section2: reading the river reach data from the .mat file"
   ]
  },
  {
   "cell_type": "code",
   "execution_count": 2,
   "metadata": {
    "collapsed": true
   },
   "outputs": [],
   "source": [
    "# as the reach data will be read from a MATLAB database (provided by DEH), we should first read the .mat file\n",
    "Troncon_path = r'C:\\Users\\mohbiz1\\Desktop\\Dossier_travail\\Hydrotel\\DEH\\INFO_TRONCON.mat'\n",
    "data = sio.loadmat(Troncon_path, struct_as_record=False, squeeze_me=True)\n",
    "region_name = data['SLNO_TRONCON']\n",
    "size = region_name.shape[0]\n",
    "s = size-1  # size = number of river reaches"
   ]
  },
  {
   "cell_type": "code",
   "execution_count": 3,
   "metadata": {
    "collapsed": true
   },
   "outputs": [],
   "source": [
    "# reading the attributes associated with each river reach in data such as length, width and etc.\n",
    "\n",
    "df = []\n",
    "for i in range(size):\n",
    "    rec = region_name[i]\n",
    "    df.append([rec.NOEUD_AVAL.NUMERO,rec.NOEUD_AMONT.NUMERO,rec.NO_TRONCON,rec.TYPE_NO,rec.LONGUEUR,rec.LARGEUR,rec.UHRH_ASSOCIES,rec.C_MANNING,rec.PENTE_MOYENNE,rec.SUPERFICIE_DRAINEE])\n",
    "TRONCON_INFO= pd.DataFrame(df,columns = ['NODE_AVAL','NODE_AMONT','SubId','TYPE_NO','Rivlen','BnkfWidth','ASSOCI_UHRH','Ch_n','RivSlope','SA_Up'])"
   ]
  },
  {
   "cell_type": "code",
   "execution_count": 4,
   "metadata": {
    "collapsed": true
   },
   "outputs": [],
   "source": [
    "# here we define the directory in whcih the results will be written.\n",
    "pathtoDirectory = r\"C:\\Users\\mohbiz1\\Desktop\\Dossier_travail\\Hydrotel\\DEH\\MG24HA\\SLNO_MG24HA_2020\\physitel\"\n",
    "workspace = os.path.join(pathtoDirectory+ \"\\HRU\")\n",
    "shutil.copytree(pathtoDirectory,workspace)\n",
    "# Set environment workspace for arcpy\n",
    "arcpy.env.overwriteOutput = True\n",
    "env.workspace = r\"C:\\Users\\mohbiz1\\Desktop\\Dossier_travail\\Hydrotel\\DEH\\MG24HA\\SLNO_MG24HA_2020\\physitel\\HRU\"\n",
    "workspace = arcpy.env.workspace # the geospatial calculations will be written in in this folder"
   ]
  },
  {
   "cell_type": "code",
   "execution_count": 5,
   "metadata": {},
   "outputs": [
    {
     "data": {
      "text/plain": [
       "<Result 'uhrh.shp'>"
      ]
     },
     "execution_count": 5,
     "metadata": {},
     "output_type": "execute_result"
    }
   ],
   "source": [
    "# add subbasin ID to the attribute table of uhrh map (created by physitel)\n",
    "arcpy.AddField_management(\"uhrh.shp\", \"SubId\", \"LONG\", \"\", \"\", 16)"
   ]
  },
  {
   "cell_type": "code",
   "execution_count": null,
   "metadata": {
    "collapsed": true
   },
   "outputs": [],
   "source": [
    "# for lakes/reservoirs, the manning coefficient and bankfulldepth are null. They are replaced by 0 for further processing.\n",
    "TRONCON_INFO.loc[TRONCON_INFO.TYPE_NO == 2, 'Ch_n'] = 0.\n",
    "TRONCON_INFO.loc[TRONCON_INFO.TYPE_NO == 2, 'BnkfWidth'] = 0."
   ]
  },
  {
   "cell_type": "code",
   "execution_count": null,
   "metadata": {},
   "outputs": [],
   "source": [
    "# finding the subbasins associated with each river reach and write them to the SubId field.\n",
    "for i in range(size):\n",
    "    a = TRONCON_INFO['ASSOCI_UHRH'][i]\n",
    "    id = TRONCON_INFO['SubId'][i]\n",
    "    #print (\"writing subbasin :\", i )\n",
    "    if type(a) is int:\n",
    "        aa = [a]\n",
    "        st = len(aa)\n",
    "        stt = st-1\n",
    "        dict = {i: aa[i] for i in range(0, len(aa))}\n",
    "    else:\n",
    "        al = a.tolist()\n",
    "        st = len(al)  # number of UHRH associated with current reach\n",
    "        stt = st - 1\n",
    "        #create a temporary dictionary\n",
    "        dict = {i: al[i] for i in range(0, len(al))}\n",
    "\n",
    "    for j in range(st):\n",
    "        with arcpy.da.UpdateCursor(\"uhrh.shp\", ['SHAPE@', 'SubId','ident']) as rows:\n",
    "            for row in rows:\n",
    "                if row[2] in dict.values():\n",
    "                    row[1] = id\n",
    "                rows.updateRow(row)\n"
   ]
  },
  {
   "cell_type": "code",
   "execution_count": null,
   "metadata": {
    "collapsed": true
   },
   "outputs": [],
   "source": [
    "# merge the uhrhs based on SubId field. the number of feature classes in the resulting file should be same sa number of Troncons\n",
    "\n",
    "arcpy.MakeFeatureLayer_management(\"uhrh.shp\",\"templayer\") #create a temporary feature layer\n",
    "arcpy.Dissolve_management(\"templayer\",\"uhrh_diss.shp\",\"SubId\",\"\",\"\",\"\")\n",
    "arcpy.AddGeometryAttributes_management(\"uhrh_diss.shp\", \"AREA\", \"METERS\", \"SQUARE_KILOMETERS\") # area of subbasin in km2"
   ]
  },
  {
   "cell_type": "code",
   "execution_count": null,
   "metadata": {
    "collapsed": true
   },
   "outputs": [],
   "source": [
    "# finding the downstream subbasin ID associated with each uhrh\n",
    "\n",
    "TRONCON_INFO['DownSubId']=-1\n",
    "for i in range(size):\n",
    "    naval = TRONCON_INFO['NODE_AVAL'][i]\n",
    "    for j in range(size):\n",
    "        namont= TRONCON_INFO['NODE_AMONT'][j]\n",
    "        id = TRONCON_INFO['SubId'][j]\n",
    "        if type(namont) is int:\n",
    "            nal = [namont]\n",
    "        else:\n",
    "            nal = namont.tolist()\n",
    "        if naval in nal: # if naval (downstream node) for reach i is upstream node for reach j, then reach j is downstream reach i\n",
    "            TRONCON_INFO.loc[i, 'DownSubId'] = id"
   ]
  },
  {
   "cell_type": "code",
   "execution_count": null,
   "metadata": {
    "collapsed": true
   },
   "outputs": [],
   "source": [
    "# specify the lake subbasins. the BnkfDepth value, and a column representing whether the reach has an observed time series or not.\n",
    "TRONCON_INFO['IsObs'] = (TRONCON_INFO['DownSubId'] == -1).astype(int)  #create a boolean indicator to set 1 for gauged subwatershed and 0 for others\n",
    "TRONCON_INFO['BnkfDepth'] = 0.13 * (TRONCON_INFO['SA_Up'] ** 0.4) # taken from equation 10 in paper Fossey et. al., 2015\n",
    "TRONCON_INFO['IsLake']=-9999.99\n",
    "TRONCON_INFO.loc[TRONCON_INFO.TYPE_NO == 2, 'IsLake'] = 1"
   ]
  },
  {
   "cell_type": "code",
   "execution_count": null,
   "metadata": {
    "collapsed": true
   },
   "outputs": [],
   "source": [
    "# add the downstream ID as well as other required fields to the shapefile of the created subbasin shapefile (uhrh_diss.shp)\n",
    "arcpy.AddField_management(\"uhrh_diss.shp\", \"DownSubId\", \"Double\", \"\", \"\", 16)\n",
    "arcpy.AddField_management(\"uhrh_diss.shp\", \"Rivlen\", \"Double\", \"\", \"\", 16)\n",
    "arcpy.AddField_management(\"uhrh_diss.shp\", \"BkfWidth\", \"Double\", \"\", \"\", 16)\n",
    "arcpy.AddField_management(\"uhrh_diss.shp\", \"BkfDepth\", \"Double\", \"\", \"\", 16)\n",
    "arcpy.AddField_management(\"uhrh_diss.shp\", \"IsObs\", \"Double\", \"\", \"\", 16)\n",
    "arcpy.AddField_management(\"uhrh_diss.shp\", \"RivSlope\", \"Double\", \"\", \"\", 16)\n",
    "arcpy.AddField_management(\"uhrh_diss.shp\", \"Ch_n\", \"Double\", \"\", \"\", 16)\n",
    "arcpy.AddField_management(\"uhrh_diss.shp\", \"FloodP_n\", \"Double\", \"\", \"\", 16)\n",
    "arcpy.AddField_management(\"uhrh_diss.shp\", \"IsLake\", \"Double\", \"\", \"\", 16)\n",
    "arcpy.AddField_management(\"uhrh_diss.shp\", \"Type\", \"SHORT\", \"\", \"\", 16) # NOT NEEDED for Raven. 1 = river and 2 = lake\n",
    "arcpy.AddField_management(\"uhrh_diss.shp\", \"HyLakeId\", \"Double\", \"\", \"\", 16) # NOT NEEDED for Raven. 1 = river and 2 = lake"
   ]
  },
  {
   "cell_type": "code",
   "execution_count": null,
   "metadata": {
    "collapsed": true
   },
   "outputs": [],
   "source": [
    "#loop through feature classes and copy the datframe values to the attribute table of the feature class.\n",
    "j = 0\n",
    "t = 0\n",
    "with arcpy.da.UpdateCursor(\"uhrh_diss.shp\", (\"Rivlen\", \"DownSubId\",\"SubId\",\"IsObs\",'BkfWidth','BkfDepth','RivSlope','Ch_n','FloodP_n','IsLake','HyLakeId')) as cursor:\n",
    "     for ROW in cursor:\n",
    "          #ROW[0] = TRONCON_INFO[\"TYPE_NO\"][j]\n",
    "          ROW[0] = TRONCON_INFO[\"Rivlen\"][j]\n",
    "          ROW[1] = TRONCON_INFO[\"DownSubId\"][j]\n",
    "          ROW[2] = TRONCON_INFO[\"SubId\"][j]\n",
    "          ROW[3] = TRONCON_INFO[\"IsObs\"][j]\n",
    "          ROW[4] = TRONCON_INFO[\"BnkfWidth\"][j]\n",
    "          ROW[5] = TRONCON_INFO[\"BnkfDepth\"][j]\n",
    "          ROW[6] = TRONCON_INFO[\"RivSlope\"][j]\n",
    "          ROW[7] = TRONCON_INFO[\"Ch_n\"][j]\n",
    "          ROW[8] = 0.1\n",
    "          ROW[9] = TRONCON_INFO[\"IsLake\"][j]\n",
    "          if row[9]==1:\n",
    "              t = t+1\n",
    "              ROW[10] = t\n",
    "          cursor.updateRow(ROW)\n",
    "          j += 1\n",
    "\n",
    "del cursor"
   ]
  }
 ],
 "metadata": {
  "kernelspec": {
   "display_name": "Python 2",
   "language": "python",
   "name": "python2"
  },
  "language_info": {
   "codemirror_mode": {
    "name": "ipython",
    "version": 2
   },
   "file_extension": ".py",
   "mimetype": "text/x-python",
   "name": "python",
   "nbconvert_exporter": "python",
   "pygments_lexer": "ipython2",
   "version": "2.7.18"
  }
 },
 "nbformat": 4,
 "nbformat_minor": 2
}
